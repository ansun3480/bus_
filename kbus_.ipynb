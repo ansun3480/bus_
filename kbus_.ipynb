{
  "nbformat": 4,
  "nbformat_minor": 0,
  "metadata": {
    "colab": {
      "provenance": [],
      "authorship_tag": "ABX9TyOvMTTwc/JdXVTm/3HKx+fb",
      "include_colab_link": true
    },
    "kernelspec": {
      "name": "python3",
      "display_name": "Python 3"
    },
    "language_info": {
      "name": "python"
    }
  },
  "cells": [
    {
      "cell_type": "markdown",
      "metadata": {
        "id": "view-in-github",
        "colab_type": "text"
      },
      "source": [
        "<a href=\"https://colab.research.google.com/github/ansun3480/bus_/blob/main/kbus_.ipynb\" target=\"_parent\"><img src=\"https://colab.research.google.com/assets/colab-badge.svg\" alt=\"Open In Colab\"/></a>"
      ]
    },
    {
      "cell_type": "code",
      "execution_count": 2,
      "metadata": {
        "colab": {
          "base_uri": "https://localhost:8080/"
        },
        "id": "WERPKQv1rmG2",
        "outputId": "893431a3-2892-4c37-e1ec-40d62b855ed2"
      },
      "outputs": [
        {
          "output_type": "stream",
          "name": "stdout",
          "text": [
            "<?xml version=\"1.0\" encoding=\"UTF-8\" standalone=\"yes\"?><response><comMsgHeader/><msgHeader><queryTime>2024-03-17 23:02:17.410</queryTime><resultCode>0</resultCode><resultMessage>정상적으로 처리되었습니다.</resultMessage></msgHeader><msgBody><busLocationList><endBus>0</endBus><lowPlate>0</lowPlate><plateNo>경기70사1640</plateNo><plateType>3</plateType><remainSeatCnt>40</remainSeatCnt><routeId>200000150</routeId><stationId>277104642</stationId><stationSeq>30</stationSeq></busLocationList><busLocationList><endBus>0</endBus><lowPlate>0</lowPlate><plateNo>경기70사1694</plateNo><plateType>3</plateType><remainSeatCnt>6</remainSeatCnt><routeId>200000150</routeId><stationId>277102049</stationId><stationSeq>42</stationSeq></busLocationList><busLocationList><endBus>0</endBus><lowPlate>0</lowPlate><plateNo>경기70사1145</plateNo><plateType>4</plateType><remainSeatCnt>68</remainSeatCnt><routeId>200000150</routeId><stationId>201000447</stationId><stationSeq>79</stationSeq></busLocationList><busLocationList><endBus>0</endBus><lowPlate>0</lowPlate><plateNo>경기70사1678</plateNo><plateType>4</plateType><remainSeatCnt>13</remainSeatCnt><routeId>200000150</routeId><stationId>277103220</stationId><stationSeq>49</stationSeq></busLocationList><busLocationList><endBus>0</endBus><lowPlate>0</lowPlate><plateNo>경기70사1647</plateNo><plateType>4</plateType><remainSeatCnt>63</remainSeatCnt><routeId>200000150</routeId><stationId>277103205</stationId><stationSeq>36</stationSeq></busLocationList><busLocationList><endBus>0</endBus><lowPlate>0</lowPlate><plateNo>경기70사1641</plateNo><plateType>3</plateType><remainSeatCnt>37</remainSeatCnt><routeId>200000150</routeId><stationId>201000146</stationId><stationSeq>18</stationSeq></busLocationList><busLocationList><endBus>0</endBus><lowPlate>0</lowPlate><plateNo>경기70사1163</plateNo><plateType>4</plateType><remainSeatCnt>71</remainSeatCnt><routeId>200000150</routeId><stationId>201000458</stationId><stationSeq>3</stationSeq></busLocationList><busLocationList><endBus>0</endBus><lowPlate>0</lowPlate><plateNo>경기70사1130</plateNo><plateType>3</plateType><remainSeatCnt>40</remainSeatCnt><routeId>200000150</routeId><stationId>201000410</stationId><stationSeq>74</stationSeq></busLocationList><busLocationList><endBus>0</endBus><lowPlate>0</lowPlate><plateNo>경기70사1112</plateNo><plateType>4</plateType><remainSeatCnt>48</remainSeatCnt><routeId>200000150</routeId><stationId>201000101</stationId><stationSeq>64</stationSeq></busLocationList></msgBody></response>\n"
          ]
        }
      ],
      "source": [
        "import requests\n",
        "url='http://apis.data.go.kr/6410000/buslocationservice/getBusLocationList?serviceKey=P8%2FWvaSJKxjlVrBlhMzX35HZi9RRra0xDN7dpqbEiglkJDagHZBqDK%2B8rZFPgQoPPwst5YujLpAAF%2FmuglqrIA%3D%3D&routeId=200000150'\n",
        "r = requests.get(url)\n",
        "print(r.text)"
      ]
    },
    {
      "cell_type": "code",
      "source": [
        "from bs4 import BeautifulSoup\n",
        "\n",
        "soup = BeautifulSoup(r.text, features=\"xml\")"
      ],
      "metadata": {
        "id": "Nzvl5eoLxhM2"
      },
      "execution_count": null,
      "outputs": []
    },
    {
      "cell_type": "code",
      "source": [
        "\n",
        "soup.find_all('stationId')"
      ],
      "metadata": {
        "colab": {
          "base_uri": "https://localhost:8080/"
        },
        "id": "-VsuVFlCxa40",
        "outputId": "a0a60703-50f5-45df-9d27-fa85ab0ce57a"
      },
      "execution_count": 6,
      "outputs": [
        {
          "output_type": "execute_result",
          "data": {
            "text/plain": [
              "[<stationId>277104642</stationId>,\n",
              " <stationId>277102049</stationId>,\n",
              " <stationId>201000447</stationId>,\n",
              " <stationId>277103220</stationId>,\n",
              " <stationId>277103205</stationId>,\n",
              " <stationId>201000146</stationId>,\n",
              " <stationId>201000458</stationId>,\n",
              " <stationId>201000410</stationId>,\n",
              " <stationId>201000101</stationId>]"
            ]
          },
          "metadata": {},
          "execution_count": 6
        }
      ]
    }
  ]
}